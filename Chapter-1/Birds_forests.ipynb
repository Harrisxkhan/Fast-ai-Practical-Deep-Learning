{
 "cells": [
  {
   "cell_type": "code",
   "execution_count": null,
   "metadata": {
    "id": "V9VAi0fkNHZW"
   },
   "outputs": [],
   "source": [
    "import os\n",
    "iskaggle = os.environ.get('KAGGLE_KERNEL_RUN_TYPE','')\n",
    "\n",
    "if iskaggle:\n",
    "  !pip install -Uqq fastai ' duckduckgo_search>=6.2'"
   ]
  },
  {
   "cell_type": "code",
   "execution_count": null,
   "metadata": {
    "colab": {
     "base_uri": "https://localhost:8080/"
    },
    "id": "wpc7i91faH4v",
    "outputId": "9f924ff0-ce6b-4130-e9a9-98d99ca51a36"
   },
   "outputs": [],
   "source": [
    "!pip install -U duckduckgo_search"
   ]
  },
  {
   "cell_type": "code",
   "execution_count": null,
   "metadata": {
    "id": "rrcv_jlHb-V8"
   },
   "outputs": [],
   "source": [
    "from duckduckgo_search import DDGS\n",
    "from fastcore.all import*\n",
    "\n",
    "def search_images(keywords,max_images=200):\n",
    "   return L(DDGS().images(keywords, max_results = max_images)).itemgot('image')\n",
    "import time,json"
   ]
  },
  {
   "cell_type": "code",
   "execution_count": null,
   "metadata": {
    "colab": {
     "base_uri": "https://localhost:8080/",
     "height": 36
    },
    "id": "I3niTfMXqIAH",
    "outputId": "4fec9a9c-51e5-4cf7-855d-07f31a6a8229"
   },
   "outputs": [],
   "source": [
    "urls = search_images('bird phots', max_images = 1)\n",
    "urls[0]"
   ]
  },
  {
   "cell_type": "code",
   "execution_count": null,
   "metadata": {
    "colab": {
     "base_uri": "https://localhost:8080/",
     "height": 188
    },
    "id": "F4y68hMYKR4Q",
    "outputId": "7ed1db6c-1626-457c-905e-3a415e68d603"
   },
   "outputs": [],
   "source": [
    "from fastdownload import download_url\n",
    "dest = 'bird.jpg'\n",
    "download_url(urls[0], dest, show_progress=False)\n",
    "\n",
    "from fastai.vision.all import *\n",
    "im = Image.open(dest)\n",
    "\n",
    "im.to_thumb(   256,256)"
   ]
  },
  {
   "cell_type": "code",
   "execution_count": null,
   "metadata": {
    "colab": {
     "base_uri": "https://localhost:8080/",
     "height": 161
    },
    "id": "eFTIhJxuJzyI",
    "outputId": "36e08267-5dfa-457c-ebc2-e6d7522932b4"
   },
   "outputs": [],
   "source": [
    "download_url(search_images(\"forest photos\", max_images = 1)[0], 'forest.jpg', show_progress = False)\n",
    "Image.open('forest.jpg').to_thumb(256,256)"
   ]
  },
  {
   "cell_type": "markdown",
   "metadata": {
    "id": "3wbrSNFpU3yl"
   },
   "source": []
  },
  {
   "cell_type": "code",
   "execution_count": null,
   "metadata": {
    "colab": {
     "base_uri": "https://localhost:8080/"
    },
    "id": "_N9lebs_Nl6n",
    "outputId": "cf08fca3-0d57-4651-856e-22131b998d40"
   },
   "outputs": [],
   "source": [
    "\n",
    "searches = 'forest','bird'\n",
    "path = Path('bird_or_not')\n",
    "\n",
    "for o in searches:\n",
    "    dest = (path/o)\n",
    "    dest.mkdir(exist_ok=True, parents=True)\n",
    "    download_images(dest, urls=search_images(f'{o} photo'))\n",
    "    time.sleep(5)\n",
    "    resize_images(path/o, max_size=400, dest=path/o)"
   ]
  },
  {
   "cell_type": "code",
   "execution_count": null,
   "metadata": {
    "colab": {
     "base_uri": "https://localhost:8080/"
    },
    "id": "XCQc147mRgv3",
    "outputId": "673d2e25-a898-4c8c-fa73-8cdb73650495"
   },
   "outputs": [],
   "source": [
    "failed = verify_images(get_image_files(path))\n",
    "failed.map(Path.unlink)\n",
    "len(failed)"
   ]
  },
  {
   "cell_type": "code",
   "execution_count": null,
   "metadata": {
    "colab": {
     "base_uri": "https://localhost:8080/",
     "height": 516
    },
    "id": "mmWkuCqYph2y",
    "outputId": "59273694-c604-48c3-eed5-af74385858ad"
   },
   "outputs": [],
   "source": [
    "dls = DataBlock(\n",
    "    blocks=(ImageBlock, CategoryBlock),\n",
    "    get_items=get_image_files,\n",
    "    splitter=RandomSplitter(valid_pct=0.2, seed=42),\n",
    "    get_y=parent_label,\n",
    "    item_tfms=[Resize(192, method='squish')]\n",
    ").dataloaders(path, bs=32)\n",
    "\n",
    "dls.show_batch(max_n=6)"
   ]
  },
  {
   "cell_type": "code",
   "execution_count": null,
   "metadata": {
    "colab": {
     "base_uri": "https://localhost:8080/",
     "height": 207
    },
    "id": "9n_L-VEXqzTa",
    "outputId": "f80cdeb2-e5b2-4294-bac7-385bd6610a8a"
   },
   "outputs": [],
   "source": [
    "learn = vision_learner(dls, resnet18, metrics = error_rate)\n",
    "learn.fine_tune(3, 0.01)"
   ]
  },
  {
   "cell_type": "code",
   "execution_count": null,
   "metadata": {
    "colab": {
     "base_uri": "https://localhost:8080/",
     "height": 52
    },
    "id": "ZOSLgDFstu0Z",
    "outputId": "883d004f-7487-444d-baf9-bcf788da8dc2"
   },
   "outputs": [],
   "source": [
    "is_bird,_,probs = learn.predict(PILImage.create('bird.jpg'))\n",
    "print(f\"This is a: {is_bird}.\")\n",
    "print(f\"Probability it's a bird: {probs[0]:.4f}\")"
   ]
  }
 ],
 "metadata": {
  "accelerator": "GPU",
  "colab": {
   "gpuType": "T4",
   "provenance": []
  },
  "kernelspec": {
   "display_name": "Python 3",
   "name": "python3"
  },
  "language_info": {
   "name": "python"
  }
 },
 "nbformat": 4,
 "nbformat_minor": 0
}
