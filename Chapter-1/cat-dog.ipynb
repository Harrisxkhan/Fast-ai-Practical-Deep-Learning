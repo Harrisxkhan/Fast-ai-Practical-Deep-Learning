{
 "cells": [
  {
   "cell_type": "code",
   "execution_count": null,
   "metadata": {
    "id": "V9VAi0fkNHZW"
   },
   "outputs": [],
   "source": [
    "import os\n",
    "iskaggle = os.environ.get('KAGGLE_KERNEL_RUN_TYPE','')\n",
    "\n",
    "if iskaggle:\n",
    "  !pip install -Uqq fastai ' duckduckgo_search>=6.2'"
   ]
  },
  {
   "cell_type": "code",
   "execution_count": null,
   "metadata": {
    "colab": {
     "base_uri": "https://localhost:8080/"
    },
    "id": "wpc7i91faH4v",
    "outputId": "65fd616b-2506-4d6f-b990-07da630f588a"
   },
   "outputs": [],
   "source": [
    "!pip install -U duckduckgo_search"
   ]
  },
  {
   "cell_type": "code",
   "execution_count": null,
   "metadata": {
    "id": "rrcv_jlHb-V8"
   },
   "outputs": [],
   "source": [
    "from duckduckgo_search import DDGS\n",
    "from fastcore.all import*\n",
    "\n",
    "def search_images(keywords,max_images=200):\n",
    "   return L(DDGS().images(keywords, max_results = max_images)).itemgot('image')\n",
    "import time,json"
   ]
  },
  {
   "cell_type": "code",
   "execution_count": null,
   "metadata": {
    "colab": {
     "base_uri": "https://localhost:8080/",
     "height": 36
    },
    "id": "I3niTfMXqIAH",
    "outputId": "0d4873e5-7b0b-4235-8d65-281cf5042746"
   },
   "outputs": [],
   "source": [
    "urls = search_images('dig photoes', max_images = 1)\n",
    "urls[0]"
   ]
  },
  {
   "cell_type": "code",
   "execution_count": null,
   "metadata": {
    "colab": {
     "base_uri": "https://localhost:8080/",
     "height": 188
    },
    "id": "F4y68hMYKR4Q",
    "outputId": "e74f71f1-bf1a-4223-81a9-a8ca8ed3755a"
   },
   "outputs": [],
   "source": [
    "from fastdownload import download_url\n",
    "dest = 'dog.jpg'\n",
    "download_url(urls[0], dest, show_progress=False)\n",
    "\n",
    "from fastai.vision.all import *\n",
    "im = Image.open(dest)\n",
    "\n",
    "im.to_thumb(   256,256)"
   ]
  },
  {
   "cell_type": "code",
   "execution_count": null,
   "metadata": {
    "colab": {
     "base_uri": "https://localhost:8080/",
     "height": 273
    },
    "id": "eFTIhJxuJzyI",
    "outputId": "ba27d5c2-5312-4778-ae82-2d65bb5bc1a8"
   },
   "outputs": [],
   "source": [
    "download_url(search_images(\"cats photos\", max_images = 1)[0], 'cat.jpg', show_progress = False)\n",
    "Image.open('cat.jpg').to_thumb(256,256)"
   ]
  },
  {
   "cell_type": "markdown",
   "metadata": {
    "id": "3wbrSNFpU3yl"
   },
   "source": []
  },
  {
   "cell_type": "code",
   "execution_count": null,
   "metadata": {
    "colab": {
     "base_uri": "https://localhost:8080/"
    },
    "id": "_N9lebs_Nl6n",
    "outputId": "4cec8afe-5541-4abc-f693-8252b7af1e60"
   },
   "outputs": [],
   "source": [
    "\n",
    "searches = 'dog','cat'\n",
    "path = Path('cat_or_not_cat')\n",
    "\n",
    "for o in searches:\n",
    "    dest = (path/o)\n",
    "    dest.mkdir(exist_ok=True, parents=True)\n",
    "    download_images(dest, urls=search_images(f'{o} photo'))\n",
    "    time.sleep(5)\n",
    "    resize_images(path/o, max_size=400, dest=path/o)"
   ]
  },
  {
   "cell_type": "code",
   "execution_count": null,
   "metadata": {
    "colab": {
     "base_uri": "https://localhost:8080/"
    },
    "id": "XCQc147mRgv3",
    "outputId": "2d66de8b-ca2a-436b-ed98-ace109eed0fd"
   },
   "outputs": [],
   "source": [
    "failed = verify_images(get_image_files(path))\n",
    "failed.map(Path.unlink)\n",
    "len(failed)"
   ]
  },
  {
   "cell_type": "code",
   "execution_count": null,
   "metadata": {
    "colab": {
     "base_uri": "https://localhost:8080/",
     "height": 516
    },
    "id": "mmWkuCqYph2y",
    "outputId": "04320f14-f93d-42bd-ecbe-0123c8509123"
   },
   "outputs": [],
   "source": [
    "dls = DataBlock(\n",
    "    blocks=(ImageBlock, CategoryBlock),\n",
    "    get_items=get_image_files,\n",
    "    splitter=RandomSplitter(valid_pct=0.2, seed=42),\n",
    "    get_y=parent_label,\n",
    "    item_tfms=[Resize(192, method='squish')]\n",
    ").dataloaders(path, bs=32)\n",
    "\n",
    "dls.show_batch(max_n=6)"
   ]
  },
  {
   "cell_type": "code",
   "execution_count": null,
   "metadata": {
    "colab": {
     "base_uri": "https://localhost:8080/",
     "height": 242
    },
    "id": "9n_L-VEXqzTa",
    "outputId": "fdd1b8f8-6532-4cce-8b4a-7ffc2d3b9ba7"
   },
   "outputs": [],
   "source": [
    "learn = vision_learner(dls, resnet18, metrics = error_rate)\n",
    "learn.fine_tune(3, 0.01)"
   ]
  },
  {
   "cell_type": "code",
   "execution_count": null,
   "metadata": {
    "colab": {
     "base_uri": "https://localhost:8080/",
     "height": 52
    },
    "id": "ZOSLgDFstu0Z",
    "outputId": "c80d40b2-ed81-4274-ee01-33024e179faa"
   },
   "outputs": [],
   "source": [
    "is_bird,_,probs = learn.predict(PILImage.create('dog.jpg'))\n",
    "print(f\"This is a: {is_bird}.\")\n",
    "print(f\"Probability it's a bird: {probs[0]:.4f}\")"
   ]
  }
 ],
 "metadata": {
  "accelerator": "GPU",
  "colab": {
   "gpuType": "T4",
   "provenance": []
  },
  "kernelspec": {
   "display_name": "Python 3",
   "name": "python3"
  },
  "language_info": {
   "name": "python"
  }
 },
 "nbformat": 4,
 "nbformat_minor": 0
}
