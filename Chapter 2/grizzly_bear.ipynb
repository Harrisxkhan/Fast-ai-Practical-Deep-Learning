{
 "cells": [
  {
   "cell_type": "code",
   "execution_count": null,
   "metadata": {
    "colab": {
     "base_uri": "https://localhost:8080/"
    },
    "id": "I84qlJDOSZDY",
    "outputId": "428c5e1f-0ba3-4051-e868-ee348adf3bd1"
   },
   "outputs": [],
   "source": [
    "#hide\n",
    "! [ -e /content ] && pip install -Uqq fastbook\n",
    "import fastbook\n",
    "fastbook.setup_book()"
   ]
  },
  {
   "cell_type": "code",
   "execution_count": null,
   "metadata": {
    "id": "Gdryyuc1Upd_"
   },
   "outputs": [],
   "source": [
    "#hide\n",
    "from fastbook import *\n",
    "from fastai.vision.widgets import *"
   ]
  },
  {
   "cell_type": "code",
   "execution_count": null,
   "metadata": {
    "colab": {
     "base_uri": "https://localhost:8080/",
     "height": 122
    },
    "id": "6dAkKG0gaBB8",
    "outputId": "0537566d-ece8-44a4-cd41-0798de6d55d9"
   },
   "outputs": [],
   "source": [
    "search_images_ddg"
   ]
  },
  {
   "cell_type": "markdown",
   "metadata": {
    "id": "SC-SMVtqV-nL"
   },
   "source": [
    "Lets get bear images from duckduckgo_search"
   ]
  },
  {
   "cell_type": "code",
   "execution_count": null,
   "metadata": {
    "colab": {
     "base_uri": "https://localhost:8080/"
    },
    "id": "NLw73e1Ib5hz",
    "outputId": "c430dbc1-f0e8-4ad5-dbb5-96a756945d8c"
   },
   "outputs": [],
   "source": [
    "ims = search_images_ddg('Grizzly bear')\n",
    "len(ims)"
   ]
  },
  {
   "cell_type": "markdown",
   "metadata": {
    "id": "-B_RwqAEWbmE"
   },
   "source": [
    "call the image url and saving it to the dest path"
   ]
  },
  {
   "cell_type": "code",
   "execution_count": null,
   "metadata": {
    "colab": {
     "base_uri": "https://localhost:8080/"
    },
    "id": "rhQM0upDfDRM",
    "outputId": "cea9b3aa-24f6-4848-9bdd-e4ad381ae9f4"
   },
   "outputs": [],
   "source": [
    "dest = 'images/grizzly.jpg'\n",
    "download_url(ims[0],dest,show_progress=False)"
   ]
  },
  {
   "cell_type": "markdown",
   "metadata": {
    "id": "aIx6aK_pXBcE"
   },
   "source": [
    "calls and displays the image"
   ]
  },
  {
   "cell_type": "code",
   "execution_count": null,
   "metadata": {
    "colab": {
     "base_uri": "https://localhost:8080/",
     "height": 89
    },
    "id": "Yq-ZgaCUWhv7",
    "outputId": "f2feac7f-003b-40cc-ebce-a5cfd67e0634"
   },
   "outputs": [],
   "source": [
    "im = Image.open(dest)\n",
    "im.to_thumb(128,128)"
   ]
  },
  {
   "cell_type": "code",
   "execution_count": null,
   "metadata": {
    "id": "nOyjcCgHYrns"
   },
   "outputs": [],
   "source": [
    "bear_types = 'grizzly','black','teddy'\n",
    "path = Path('bears')"
   ]
  },
  {
   "cell_type": "markdown",
   "metadata": {
    "id": "L2dJTisZpr9j"
   },
   "source": [
    "Check/Create the root \"bears\" folder if it’s not there.\n",
    "\n",
    "Loop over each bear type in bear_types.\n",
    "\n",
    "Make a subfolder for that type.\n",
    "\n",
    "Search Bing for images of “<type> bear” via search_images_bing.\n",
    "\n",
    "Download all returned image URLs into the appropriate folder using download_images."
   ]
  },
  {
   "cell_type": "code",
   "execution_count": null,
   "metadata": {
    "id": "_7ewAEGKY5-j"
   },
   "outputs": [],
   "source": [
    "if not path.exists():\n",
    "  path.mkdir()\n",
    "  for o in bear_types:\n",
    "    dest = (path/o)\n",
    "    dest.mkdir(exist_ok=True)\n",
    "    results = search_images_ddg(f'{0} bear')\n",
    "    download_images(dest,urls= results)\n"
   ]
  },
  {
   "cell_type": "code",
   "execution_count": null,
   "metadata": {
    "colab": {
     "base_uri": "https://localhost:8080/"
    },
    "id": "YJgPH9sgkfyG",
    "outputId": "ae1cbaae-e3e3-4b05-be93-a51155173d34"
   },
   "outputs": [],
   "source": [
    "fns = get_image_files(path)\n",
    "fns"
   ]
  },
  {
   "cell_type": "markdown",
   "metadata": {
    "id": "CCjI6aejq0IT"
   },
   "source": [
    "remove failed ones"
   ]
  },
  {
   "cell_type": "code",
   "execution_count": null,
   "metadata": {
    "colab": {
     "base_uri": "https://localhost:8080/"
    },
    "id": "O71fqi4RqxZD",
    "outputId": "1821ba70-065a-4ecb-cdbd-60132efc2c33"
   },
   "outputs": [],
   "source": [
    "failed =verify_images(fns)\n",
    "failed"
   ]
  },
  {
   "cell_type": "code",
   "execution_count": null,
   "metadata": {
    "id": "3h8La2Fks16r"
   },
   "outputs": [],
   "source": [
    "failed.map(Path.unlink);"
   ]
  },
  {
   "cell_type": "markdown",
   "metadata": {
    "id": "UeowHIT9y4FC"
   },
   "source": [
    "now we gathered the data, so its time to clean the dataa like beofre with data loader and data block\n",
    "Blocks: Choose your input/output types (ImageBlock, CategoryBlock).\n",
    "\n",
    "get_items: Gather all file paths.\n",
    "\n",
    "get_y: Pull labels from those paths.\n",
    "\n",
    "splitter: Split into train/validation sets.\n",
    "\n",
    "(Optional) item_tfms: Preprocess each item (resize, crop, etc.).\n",
    "\n",
    "dataloaders(): Materialize into actual DataLoaders ready for your model."
   ]
  },
  {
   "cell_type": "code",
   "execution_count": null,
   "metadata": {
    "id": "UnVaEfvxy-zS"
   },
   "outputs": [],
   "source": [
    "bears = DataBlock(\n",
    "    blocks = (ImageBlock, CategoryBlock),\n",
    "    get_items= get_image_files,\n",
    "    splitter= RandomSplitter(valid_pct=0.2,seed = 42),\n",
    "    get_y= parent_label,\n",
    "    item_tfms= Resize(128)\n",
    ")"
   ]
  },
  {
   "cell_type": "markdown",
   "metadata": {
    "id": "8bKDarRZiZEF"
   },
   "source": [
    "They will go through our model in a big array called tensors, but they need to be same size, all of it."
   ]
  },
  {
   "cell_type": "code",
   "execution_count": null,
   "metadata": {
    "id": "whwsBVIkiguN"
   },
   "outputs": [],
   "source": [
    "item_tfms= Resize(128)"
   ]
  },
  {
   "cell_type": "markdown",
   "metadata": {
    "id": "65M0b_abirk9"
   },
   "source": [
    "This is like the template for dataloaders."
   ]
  },
  {
   "cell_type": "code",
   "execution_count": null,
   "metadata": {
    "id": "5ouPUf2MiuKV"
   },
   "outputs": [],
   "source": [
    "dls = bears.dataloaders(path)"
   ]
  },
  {
   "cell_type": "markdown",
   "metadata": {
    "id": "4m7_WG1rPd7c"
   },
   "source": [
    "you gotta check the inputs, model hasnt been trained on."
   ]
  },
  {
   "cell_type": "code",
   "execution_count": null,
   "metadata": {
    "colab": {
     "base_uri": "https://localhost:8080/",
     "height": 262
    },
    "id": "fxfH96xbO7ql",
    "outputId": "edb4b197-d37e-48ea-c3a0-73883e3361ad"
   },
   "outputs": [],
   "source": [
    "dls.valid.show_batch(max_n=4,nrows=1)"
   ]
  },
  {
   "cell_type": "markdown",
   "metadata": {
    "id": "RQ766r0FsJfP"
   },
   "source": [
    "in traning we must make sure that all images are of the same size, because nuerall netwrokd espically cnns requoires every image in a batch to have exact same dimensions..\n",
    "2:04\n",
    "if not same size we coudlnt form a rectungalur tensor..\n",
    "You need same sizes\n",
    "2:06\n",
    "You can do padding"
   ]
  },
  {
   "cell_type": "code",
   "execution_count": null,
   "metadata": {
    "colab": {
     "base_uri": "https://localhost:8080/",
     "height": 262
    },
    "id": "EI-bJ1svsI1g",
    "outputId": "98a1a000-6921-4c19-82bd-6ef2d38debee"
   },
   "outputs": [],
   "source": [
    "bears = bears.new(item_tfms=Resize(128,ResizeMethod.Squish))\n",
    "dls = bears.dataloaders(path)\n",
    "dls.valid.show_batch(max_n=4,nrows=1)"
   ]
  },
  {
   "cell_type": "code",
   "execution_count": null,
   "metadata": {
    "colab": {
     "base_uri": "https://localhost:8080/",
     "height": 262
    },
    "id": "cB9coYEFtnXI",
    "outputId": "d826b57a-569f-4b99-aace-d558047a252d"
   },
   "outputs": [],
   "source": [
    "bears = bears.new(item_tfms=Resize(128,ResizeMethod.Pad,pad_mode='zeros'))\n",
    "dls = bears.dataloaders(path)\n",
    "dls.valid.show_batch(max_n=4,nrows=1)"
   ]
  },
  {
   "cell_type": "markdown",
   "metadata": {
    "id": "agUxQcGK3ATg"
   },
   "source": [
    "random reziedcrop is a very good method to crop image randomly, like the in every epoch, it will give model image from diffeent directioon, and its good for traning.."
   ]
  },
  {
   "cell_type": "markdown",
   "metadata": {
    "id": "DnuawpKS4ExH"
   },
   "source": [
    "This is called data argumentation, getting different image from saem image everytime."
   ]
  },
  {
   "cell_type": "code",
   "execution_count": null,
   "metadata": {
    "colab": {
     "base_uri": "https://localhost:8080/",
     "height": 291
    },
    "id": "YQbMdt8c3WFw",
    "outputId": "2ccc2a1d-087d-47cf-c224-6c8627e5c83f"
   },
   "outputs": [],
   "source": [
    "bears = bears.new(item_tfms==RandomResizedCrop(128, min_scale=0.3))\n",
    "dls = bears.dataloaders(path)\n",
    "dls.train.show_batch(max_n=4,nrows=1, unique = True)"
   ]
  }
 ],
 "metadata": {
  "accelerator": "GPU",
  "colab": {
   "gpuType": "T4",
   "provenance": []
  },
  "kernelspec": {
   "display_name": "Python 3",
   "name": "python3"
  },
  "language_info": {
   "name": "python"
  }
 },
 "nbformat": 4,
 "nbformat_minor": 0
}
