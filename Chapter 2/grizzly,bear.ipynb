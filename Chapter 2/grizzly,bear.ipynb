{
 "cells": [
  {
   "cell_type": "code",
   "execution_count": null,
   "metadata": {
    "colab": {
     "base_uri": "https://localhost:8080/"
    },
    "id": "I84qlJDOSZDY",
    "outputId": "d9cdd940-ecf8-4c22-fd7c-4f5762f17e9e"
   },
   "outputs": [],
   "source": [
    "#hide\n",
    "! [ -e /content ] && pip install -Uqq fastbook\n",
    "import fastbook\n",
    "fastbook.setup_book()"
   ]
  },
  {
   "cell_type": "code",
   "execution_count": null,
   "metadata": {
    "id": "Gdryyuc1Upd_"
   },
   "outputs": [],
   "source": [
    "#hide\n",
    "from fastbook import *\n",
    "from fastai.vision.widgets import *"
   ]
  },
  {
   "cell_type": "code",
   "execution_count": null,
   "metadata": {
    "colab": {
     "base_uri": "https://localhost:8080/",
     "height": 122
    },
    "id": "6dAkKG0gaBB8",
    "outputId": "555e0a00-a749-4431-9058-c8ec7ee2a504"
   },
   "outputs": [],
   "source": [
    "search_images_ddg"
   ]
  },
  {
   "cell_type": "markdown",
   "metadata": {
    "id": "SC-SMVtqV-nL"
   },
   "source": [
    "Lets get bear images from duckduckgo_search"
   ]
  },
  {
   "cell_type": "code",
   "execution_count": null,
   "metadata": {
    "colab": {
     "base_uri": "https://localhost:8080/"
    },
    "id": "NLw73e1Ib5hz",
    "outputId": "dbffc233-2022-4258-e5d8-ca07f079ef38"
   },
   "outputs": [],
   "source": [
    "ims = search_images_ddg('Grizzly bear')\n",
    "len(ims)"
   ]
  },
  {
   "cell_type": "markdown",
   "metadata": {
    "id": "-B_RwqAEWbmE"
   },
   "source": [
    "call the image url and saving it to the dest path"
   ]
  },
  {
   "cell_type": "code",
   "execution_count": null,
   "metadata": {
    "colab": {
     "base_uri": "https://localhost:8080/"
    },
    "id": "rhQM0upDfDRM",
    "outputId": "0548ef68-4b3c-4965-ad0c-c0204b821377"
   },
   "outputs": [],
   "source": [
    "dest = 'images/grizzly.jpg'\n",
    "download_url(ims[0],dest,show_progress=False)"
   ]
  },
  {
   "cell_type": "markdown",
   "metadata": {
    "id": "aIx6aK_pXBcE"
   },
   "source": [
    "calls and displays the image"
   ]
  },
  {
   "cell_type": "code",
   "execution_count": null,
   "metadata": {
    "colab": {
     "base_uri": "https://localhost:8080/",
     "height": 102
    },
    "id": "Yq-ZgaCUWhv7",
    "outputId": "aa009023-661f-4268-d81d-8363087f4ace"
   },
   "outputs": [],
   "source": [
    "im = Image.open(dest)\n",
    "im.to_thumb(128,128)"
   ]
  },
  {
   "cell_type": "code",
   "execution_count": null,
   "metadata": {
    "id": "nOyjcCgHYrns"
   },
   "outputs": [],
   "source": [
    "bear_types = 'grizzlt','blakc','teddy'\n",
    "path = Path('bears')"
   ]
  },
  {
   "cell_type": "markdown",
   "metadata": {
    "id": "L2dJTisZpr9j"
   },
   "source": [
    "Check/Create the root \"bears\" folder if it’s not there.\n",
    "\n",
    "Loop over each bear type in bear_types.\n",
    "\n",
    "Make a subfolder for that type.\n",
    "\n",
    "Search Bing for images of “<type> bear” via search_images_bing.\n",
    "\n",
    "Download all returned image URLs into the appropriate folder using download_images."
   ]
  },
  {
   "cell_type": "code",
   "execution_count": null,
   "metadata": {
    "id": "_7ewAEGKY5-j"
   },
   "outputs": [],
   "source": [
    "if not path.exists():\n",
    "  path.mkdir()\n",
    "  for o in bear_types:\n",
    "    dest = (path/o)\n",
    "    dest.mkdir(exist_ok=True)\n",
    "    results = search_images_ddg(f'{0} bear')\n",
    "    download_images(dest,urls= results)\n"
   ]
  },
  {
   "cell_type": "code",
   "execution_count": null,
   "metadata": {
    "colab": {
     "base_uri": "https://localhost:8080/"
    },
    "id": "YJgPH9sgkfyG",
    "outputId": "fef6f566-7c2e-4493-a197-ef4ce2e03403"
   },
   "outputs": [],
   "source": [
    "fns = get_image_files(path)\n",
    "fns"
   ]
  },
  {
   "cell_type": "markdown",
   "metadata": {
    "id": "CCjI6aejq0IT"
   },
   "source": [
    "remove failed ones"
   ]
  },
  {
   "cell_type": "code",
   "execution_count": null,
   "metadata": {
    "colab": {
     "base_uri": "https://localhost:8080/"
    },
    "id": "O71fqi4RqxZD",
    "outputId": "02c8f007-ae18-4ebb-fc80-b92d1999f10e"
   },
   "outputs": [],
   "source": [
    "failed =verify_images(fns)\n",
    "failed"
   ]
  },
  {
   "cell_type": "code",
   "execution_count": null,
   "metadata": {
    "id": "3h8La2Fks16r"
   },
   "outputs": [],
   "source": [
    "failed.map(Path.unlink);"
   ]
  },
  {
   "cell_type": "markdown",
   "metadata": {
    "id": "UeowHIT9y4FC"
   },
   "source": [
    "now we gathered the data, so its time to clean the dataa like beofre with data loader and data block\n",
    "Blocks: Choose your input/output types (ImageBlock, CategoryBlock).\n",
    "\n",
    "get_items: Gather all file paths.\n",
    "\n",
    "get_y: Pull labels from those paths.\n",
    "\n",
    "splitter: Split into train/validation sets.\n",
    "\n",
    "(Optional) item_tfms: Preprocess each item (resize, crop, etc.).\n",
    "\n",
    "dataloaders(): Materialize into actual DataLoaders ready for your model."
   ]
  },
  {
   "cell_type": "code",
   "execution_count": null,
   "metadata": {
    "id": "UnVaEfvxy-zS"
   },
   "outputs": [],
   "source": [
    "bears = DataBlock(\n",
    "    blocks = (ImageBlock, CategoryBlock),\n",
    "    get_items= get_image_files,\n",
    "    splitter= RandomSplitter(valid_pct=0.2,seed = 42),\n",
    "    get_y= parent_label,\n",
    "    item_tfms= Resize(128)\n",
    ")"
   ]
  },
  {
   "cell_type": "markdown",
   "metadata": {
    "id": "8bKDarRZiZEF"
   },
   "source": [
    "They will go through our model in a big array called tensors, but they need to be same size, all of it."
   ]
  },
  {
   "cell_type": "code",
   "execution_count": null,
   "metadata": {
    "id": "whwsBVIkiguN"
   },
   "outputs": [],
   "source": [
    "item_tfms= Resize(128)"
   ]
  },
  {
   "cell_type": "markdown",
   "metadata": {
    "id": "65M0b_abirk9"
   },
   "source": [
    "This is like the template for dataloaders."
   ]
  },
  {
   "cell_type": "code",
   "execution_count": null,
   "metadata": {
    "id": "5ouPUf2MiuKV"
   },
   "outputs": [],
   "source": [
    "dls = bears.dataloaders(path)"
   ]
  },
  {
   "cell_type": "markdown",
   "metadata": {
    "id": "4m7_WG1rPd7c"
   },
   "source": [
    "you gotta check the inputs, model hasnt been trained on."
   ]
  },
  {
   "cell_type": "code",
   "execution_count": null,
   "metadata": {
    "colab": {
     "base_uri": "https://localhost:8080/",
     "height": 262
    },
    "id": "fxfH96xbO7ql",
    "outputId": "8a4f127b-19e5-4881-c7dd-786647e4c5a7"
   },
   "outputs": [],
   "source": [
    "dls.valid.show_batch(max_n=4,nrows=1)"
   ]
  }
 ],
 "metadata": {
  "accelerator": "GPU",
  "colab": {
   "gpuType": "T4",
   "provenance": []
  },
  "kernelspec": {
   "display_name": "Python 3",
   "name": "python3"
  },
  "language_info": {
   "name": "python"
  }
 },
 "nbformat": 4,
 "nbformat_minor": 0
}
